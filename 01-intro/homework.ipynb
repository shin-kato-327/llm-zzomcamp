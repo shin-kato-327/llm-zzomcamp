{
 "cells": [
  {
   "cell_type": "code",
   "execution_count": 7,
   "id": "ea0e86da-26ca-4843-8cb8-222df4a36909",
   "metadata": {},
   "outputs": [],
   "source": [
    "import openai\n",
    "import os"
   ]
  },
  {
   "cell_type": "code",
   "execution_count": 8,
   "id": "f3bc8647-c236-4951-9e32-fe989e6f3808",
   "metadata": {},
   "outputs": [],
   "source": [
    "from openai import OpenAI"
   ]
  },
  {
   "cell_type": "code",
   "execution_count": 20,
   "id": "b92e3702-ddfc-4a02-8eb2-428b96caad50",
   "metadata": {
    "scrolled": true
   },
   "outputs": [],
   "source": [
    "client = OpenAI(api_key=os.environ.get(\"OPEN_AI_API_KEY\"))"
   ]
  },
  {
   "cell_type": "code",
   "execution_count": 24,
   "id": "64cc1372-0b86-4ea3-91bd-2f87623d8185",
   "metadata": {
    "scrolled": true
   },
   "outputs": [],
   "source": [
    "response = client.chat.completions.create(\n",
    "    model='gpt-4o', \n",
    "    messages=[{\"role\": \"user\",\"content\": \"is it too late to join the course?\"}]\n",
    ")"
   ]
  },
  {
   "cell_type": "code",
   "execution_count": 26,
   "id": "7b41ca06-2524-4610-8eab-f6dade807f29",
   "metadata": {},
   "outputs": [
    {
     "data": {
      "text/plain": [
       "\"It depends on the specific course you are referring to, including its start date, registration deadlines, and the policies of the institution or organization offering it. If you provide more details about the course, such as its name, provider, and start date, I can offer more specific advice on whether it's too late to join and what steps you might take if the deadline has passed.\\n\\nIn general, it's always a good idea to reach out directly to the course provider or instructor to inquire about late registration options. Some courses may allow late enrollments, especially if they are self-paced or have flexible start dates.\""
      ]
     },
     "execution_count": 26,
     "metadata": {},
     "output_type": "execute_result"
    }
   ],
   "source": [
    "response.choices[0].message.content"
   ]
  }
 ],
 "metadata": {
  "kernelspec": {
   "display_name": "Python 3 (ipykernel)",
   "language": "python",
   "name": "python3"
  },
  "language_info": {
   "codemirror_mode": {
    "name": "ipython",
    "version": 3
   },
   "file_extension": ".py",
   "mimetype": "text/x-python",
   "name": "python",
   "nbconvert_exporter": "python",
   "pygments_lexer": "ipython3",
   "version": "3.12.2"
  }
 },
 "nbformat": 4,
 "nbformat_minor": 5
}
